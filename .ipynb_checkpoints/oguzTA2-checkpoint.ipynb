{
 "cells": [
  {
   "cell_type": "code",
   "execution_count": 1,
   "metadata": {},
   "outputs": [
    {
     "data": {
      "text/plain": [
       "\"/Users/oguzbayraktar/Desktop/2018-2019/trade/assignment/a2/TradeA2OB\""
      ]
     },
     "execution_count": 1,
     "metadata": {},
     "output_type": "execute_result"
    }
   ],
   "source": [
    "##### INTERNATIONAL MACROECONOMICS AND TRADE ASSIGNMENT 2 #############\n",
    "##### WRITTEN BY OGUZ BAYRAKTAR ###############\n",
    "\n",
    "\n",
    "pwd()\n",
    "\n"
   ]
  },
  {
   "cell_type": "code",
   "execution_count": 3,
   "metadata": {},
   "outputs": [],
   "source": [
    "import Pkg"
   ]
  },
  {
   "cell_type": "code",
   "execution_count": 4,
   "metadata": {},
   "outputs": [
    {
     "name": "stdout",
     "output_type": "stream",
     "text": [
      "\u001b[32m\u001b[1m  Updating\u001b[22m\u001b[39m registry at `~/.julia/registries/General`\n",
      "\u001b[32m\u001b[1m  Updating\u001b[22m\u001b[39m git-repo `https://github.com/JuliaRegistries/General.git`\n",
      "\u001b[?25l\u001b[2K\u001b[?25h\u001b[32m\u001b[1m Resolving\u001b[22m\u001b[39m package versions...\n",
      "\u001b[32m\u001b[1m  Updating\u001b[22m\u001b[39m `~/.julia/environments/v1.0/Project.toml`\n",
      "\u001b[90m [no changes]\u001b[39m\n",
      "\u001b[32m\u001b[1m  Updating\u001b[22m\u001b[39m `~/.julia/environments/v1.0/Manifest.toml`\n",
      "\u001b[90m [no changes]\u001b[39m\n"
     ]
    }
   ],
   "source": [
    "Pkg.add(\"StatFiles\")\n",
    "\n"
   ]
  },
  {
   "cell_type": "code",
   "execution_count": 5,
   "metadata": {},
   "outputs": [
    {
     "name": "stdout",
     "output_type": "stream",
     "text": [
      "\u001b[32m\u001b[1m Resolving\u001b[22m\u001b[39m package versions...\n",
      "\u001b[32m\u001b[1m  Updating\u001b[22m\u001b[39m `~/.julia/environments/v1.0/Project.toml`\n",
      "\u001b[90m [no changes]\u001b[39m\n",
      "\u001b[32m\u001b[1m  Updating\u001b[22m\u001b[39m `~/.julia/environments/v1.0/Manifest.toml`\n",
      "\u001b[90m [no changes]\u001b[39m\n"
     ]
    }
   ],
   "source": [
    "Pkg.add(\"FixedEffectModels\")"
   ]
  },
  {
   "cell_type": "code",
   "execution_count": 6,
   "metadata": {},
   "outputs": [
    {
     "name": "stdout",
     "output_type": "stream",
     "text": [
      "\u001b[32m\u001b[1m Resolving\u001b[22m\u001b[39m package versions...\n",
      "\u001b[32m\u001b[1m  Updating\u001b[22m\u001b[39m `~/.julia/environments/v1.0/Project.toml`\n",
      "\u001b[90m [no changes]\u001b[39m\n",
      "\u001b[32m\u001b[1m  Updating\u001b[22m\u001b[39m `~/.julia/environments/v1.0/Manifest.toml`\n",
      "\u001b[90m [no changes]\u001b[39m\n"
     ]
    }
   ],
   "source": [
    "Pkg.add(\"RegressionTables\")"
   ]
  },
  {
   "cell_type": "code",
   "execution_count": null,
   "metadata": {},
   "outputs": [],
   "source": [
    "using StatFiles, FixedEffectModels, RegressionTables\n"
   ]
  },
  {
   "cell_type": "code",
   "execution_count": null,
   "metadata": {},
   "outputs": [],
   "source": [
    "Pkg.add(\"DataFrames\")"
   ]
  },
  {
   "cell_type": "code",
   "execution_count": null,
   "metadata": {},
   "outputs": [],
   "source": [
    "using DataFrames"
   ]
  },
  {
   "cell_type": "code",
   "execution_count": 9,
   "metadata": {},
   "outputs": [
    {
     "data": {
      "text/html": [
       "<table class=\"data-frame\"><thead><tr><th></th><th>year</th><th>iso_o</th><th>iso_d</th><th>contig</th><th>comlang_off</th><th>distw</th><th>pop_o</th><th>gdp_o</th><th>gdpcap_o</th><th>iso2_o</th><th>pop_d</th><th>gdp_d</th><th>gdpcap_d</th><th>iso2_d</th><th>heg_d</th><th>conflict</th><th>indepdate</th><th>heg_o</th><th>col_to</th><th>col_fr</th><th>col_hist</th><th>col_cur</th><th>sever</th><th>sib_conflict</th><th>gatt_o</th><th>gatt_d</th><th>rta</th><th>comleg</th><th>comcur</th><th>acp_to_eu</th><th>gsp</th><th>eu_to_acp</th><th>gsp_rec</th><th>flow</th><th>validmirror</th><th>family</th></tr><tr><th></th><th>Int16⍰</th><th>String⍰</th><th>String⍰</th><th>Int8⍰</th><th>Int8⍰</th><th>Float64⍰</th><th>Float32⍰</th><th>Float32⍰</th><th>Float32⍰</th><th>String⍰</th><th>Float32⍰</th><th>Float32⍰</th><th>Float32⍰</th><th>String⍰</th><th>Int8⍰</th><th>Int8⍰</th><th>Int16⍰</th><th>Int8⍰</th><th>Int8⍰</th><th>Int8⍰</th><th>Int8⍰</th><th>Int8⍰</th><th>Int16⍰</th><th>Int8⍰</th><th>Int8⍰</th><th>Int8⍰</th><th>Int8⍰</th><th>Int8⍰</th><th>Int8⍰</th><th>Int8⍰</th><th>Int8⍰</th><th>Int8⍰</th><th>Int8⍰</th><th>Float64⍰</th><th>Int8⍰</th><th>String⍰</th></tr></thead><tbody><tr><th>1</th><td>1999</td><td>ABW</td><td>AGO</td><td>0</td><td>0</td><td>9587.32</td><td>missing</td><td>1722.91</td><td>missing</td><td>AW</td><td>13.5008</td><td>6154.48</td><td>455.86</td><td>AO</td><td>0</td><td>missing</td><td>missing</td><td>0</td><td>0</td><td>0</td><td>0</td><td>0</td><td>missing</td><td>missing</td><td>0</td><td>1</td><td>0</td><td>1</td><td>0</td><td>0</td><td>0</td><td>0</td><td>0</td><td>0.0</td><td>0</td><td></td></tr><tr><th>2</th><td>2000</td><td>ABW</td><td>AGO</td><td>0</td><td>0</td><td>9587.32</td><td>missing</td><td>1858.66</td><td>missing</td><td>AW</td><td>13.8406</td><td>9129.18</td><td>659.592</td><td>AO</td><td>0</td><td>missing</td><td>missing</td><td>0</td><td>0</td><td>0</td><td>0</td><td>0</td><td>missing</td><td>missing</td><td>0</td><td>1</td><td>0</td><td>1</td><td>0</td><td>0</td><td>0</td><td>0</td><td>0</td><td>0.0</td><td>1</td><td></td></tr><tr><th>3</th><td>2001</td><td>ABW</td><td>AGO</td><td>0</td><td>0</td><td>9587.32</td><td>missing</td><td>1898.88</td><td>missing</td><td>AW</td><td>14.2148</td><td>8936.02</td><td>628.641</td><td>AO</td><td>0</td><td>missing</td><td>missing</td><td>0</td><td>0</td><td>0</td><td>0</td><td>0</td><td>missing</td><td>missing</td><td>0</td><td>1</td><td>0</td><td>1</td><td>0</td><td>0</td><td>0</td><td>0</td><td>0</td><td>0.0</td><td>1</td><td></td></tr><tr><th>4</th><td>2002</td><td>ABW</td><td>AGO</td><td>0</td><td>0</td><td>9587.32</td><td>missing</td><td>1911.17</td><td>missing</td><td>AW</td><td>14.6188</td><td>11431.7</td><td>781.99</td><td>AO</td><td>0</td><td>missing</td><td>missing</td><td>0</td><td>0</td><td>0</td><td>0</td><td>0</td><td>missing</td><td>missing</td><td>0</td><td>1</td><td>0</td><td>1</td><td>0</td><td>0</td><td>0</td><td>0</td><td>0</td><td>0.0</td><td>1</td><td></td></tr><tr><th>5</th><td>2003</td><td>ABW</td><td>AGO</td><td>0</td><td>0</td><td>9587.32</td><td>0.099</td><td>missing</td><td>missing</td><td>AW</td><td>15.0469</td><td>13956.3</td><td>927.517</td><td>AO</td><td>0</td><td>missing</td><td>missing</td><td>0</td><td>0</td><td>0</td><td>0</td><td>0</td><td>missing</td><td>missing</td><td>0</td><td>1</td><td>0</td><td>1</td><td>0</td><td>0</td><td>0</td><td>0</td><td>0</td><td>0.0</td><td>1</td><td></td></tr><tr><th>6</th><td>2004</td><td>ABW</td><td>AGO</td><td>0</td><td>0</td><td>9587.32</td><td>0.099</td><td>missing</td><td>missing</td><td>AW</td><td>15.49</td><td>19775.2</td><td>1276.64</td><td>AO</td><td>0</td><td>missing</td><td>missing</td><td>0</td><td>0</td><td>0</td><td>0</td><td>0</td><td>missing</td><td>missing</td><td>0</td><td>1</td><td>0</td><td>1</td><td>0</td><td>0</td><td>0</td><td>0</td><td>0</td><td>0.0</td><td>1</td><td></td></tr><tr><th>7</th><td>2005</td><td>ABW</td><td>AGO</td><td>0</td><td>0</td><td>9587.32</td><td>0.1003</td><td>missing</td><td>missing</td><td>AW</td><td>15.9414</td><td>32810.7</td><td>2058.21</td><td>AO</td><td>0</td><td>missing</td><td>missing</td><td>0</td><td>0</td><td>0</td><td>0</td><td>0</td><td>missing</td><td>missing</td><td>0</td><td>1</td><td>0</td><td>1</td><td>0</td><td>0</td><td>0</td><td>0</td><td>0</td><td>0.0</td><td>1</td><td></td></tr><tr><th>8</th><td>2006</td><td>ABW</td><td>AGO</td><td>0</td><td>0</td><td>9587.32</td><td>0.1012</td><td>missing</td><td>missing</td><td>AW</td><td>16.3914</td><td>44033.1</td><td>2686.36</td><td>AO</td><td>0</td><td>missing</td><td>missing</td><td>0</td><td>0</td><td>0</td><td>0</td><td>0</td><td>missing</td><td>missing</td><td>0</td><td>1</td><td>0</td><td>1</td><td>0</td><td>0</td><td>0</td><td>0</td><td>0</td><td>0.0</td><td>1</td><td></td></tr><tr><th>9</th><td>1986</td><td>ABW</td><td>ANT</td><td>0</td><td>1</td><td>239.906</td><td>missing</td><td>missing</td><td>missing</td><td>AW</td><td>0.18385</td><td>missing</td><td>missing</td><td>AN</td><td>0</td><td>missing</td><td>missing</td><td>0</td><td>0</td><td>0</td><td>0</td><td>0</td><td>missing</td><td>0</td><td>0</td><td>0</td><td>0</td><td>1</td><td>1</td><td>0</td><td>0</td><td>0</td><td>0</td><td>0.0</td><td>0</td><td>NLD</td></tr><tr><th>10</th><td>1987</td><td>ABW</td><td>ANT</td><td>0</td><td>1</td><td>239.906</td><td>missing</td><td>missing</td><td>missing</td><td>AW</td><td>0.185995</td><td>missing</td><td>missing</td><td>AN</td><td>0</td><td>missing</td><td>missing</td><td>0</td><td>0</td><td>0</td><td>0</td><td>0</td><td>missing</td><td>0</td><td>0</td><td>0</td><td>0</td><td>1</td><td>1</td><td>0</td><td>0</td><td>0</td><td>0</td><td>0.0</td><td>0</td><td>NLD</td></tr><tr><th>11</th><td>1988</td><td>ABW</td><td>ANT</td><td>0</td><td>1</td><td>239.906</td><td>missing</td><td>missing</td><td>missing</td><td>AW</td><td>0.188025</td><td>missing</td><td>missing</td><td>AN</td><td>0</td><td>missing</td><td>missing</td><td>0</td><td>0</td><td>0</td><td>0</td><td>0</td><td>missing</td><td>0</td><td>0</td><td>0</td><td>0</td><td>1</td><td>1</td><td>0</td><td>0</td><td>0</td><td>0</td><td>9.661</td><td>0</td><td>NLD</td></tr><tr><th>12</th><td>1989</td><td>ABW</td><td>ANT</td><td>0</td><td>1</td><td>239.906</td><td>missing</td><td>missing</td><td>missing</td><td>AW</td><td>0.189642</td><td>missing</td><td>missing</td><td>AN</td><td>0</td><td>missing</td><td>missing</td><td>0</td><td>0</td><td>0</td><td>0</td><td>0</td><td>missing</td><td>0</td><td>0</td><td>0</td><td>0</td><td>1</td><td>1</td><td>0</td><td>0</td><td>0</td><td>0</td><td>18.951</td><td>0</td><td>NLD</td></tr><tr><th>13</th><td>1990</td><td>ABW</td><td>ANT</td><td>0</td><td>1</td><td>239.906</td><td>missing</td><td>missing</td><td>missing</td><td>AW</td><td>0.190629</td><td>missing</td><td>missing</td><td>AN</td><td>0</td><td>missing</td><td>missing</td><td>0</td><td>0</td><td>0</td><td>0</td><td>0</td><td>missing</td><td>0</td><td>0</td><td>0</td><td>0</td><td>1</td><td>1</td><td>0</td><td>0</td><td>0</td><td>0</td><td>11.301</td><td>0</td><td>NLD</td></tr><tr><th>14</th><td>1991</td><td>ABW</td><td>ANT</td><td>0</td><td>1</td><td>239.906</td><td>missing</td><td>872.067</td><td>missing</td><td>AW</td><td>0.190962</td><td>missing</td><td>missing</td><td>AN</td><td>0</td><td>missing</td><td>missing</td><td>0</td><td>0</td><td>0</td><td>0</td><td>0</td><td>missing</td><td>0</td><td>0</td><td>0</td><td>0</td><td>1</td><td>1</td><td>0</td><td>0</td><td>0</td><td>0</td><td>6.95363</td><td>0</td><td>NLD</td></tr><tr><th>15</th><td>1992</td><td>ABW</td><td>ANT</td><td>0</td><td>1</td><td>239.906</td><td>missing</td><td>958.659</td><td>missing</td><td>AW</td><td>0.190713</td><td>missing</td><td>missing</td><td>AN</td><td>0</td><td>missing</td><td>missing</td><td>0</td><td>0</td><td>0</td><td>0</td><td>0</td><td>missing</td><td>0</td><td>0</td><td>0</td><td>0</td><td>1</td><td>1</td><td>0</td><td>0</td><td>0</td><td>0</td><td>8.537</td><td>0</td><td>NLD</td></tr><tr><th>16</th><td>1993</td><td>ABW</td><td>ANT</td><td>0</td><td>1</td><td>239.906</td><td>missing</td><td>1083.24</td><td>missing</td><td>AW</td><td>0.189892</td><td>missing</td><td>missing</td><td>AN</td><td>0</td><td>missing</td><td>missing</td><td>0</td><td>0</td><td>0</td><td>0</td><td>0</td><td>missing</td><td>0</td><td>0</td><td>0</td><td>0</td><td>1</td><td>1</td><td>0</td><td>0</td><td>0</td><td>0</td><td>7.17542</td><td>0</td><td>NLD</td></tr><tr><th>17</th><td>1994</td><td>ABW</td><td>ANT</td><td>0</td><td>1</td><td>239.906</td><td>missing</td><td>1245.81</td><td>missing</td><td>AW</td><td>0.188539</td><td>missing</td><td>missing</td><td>AN</td><td>0</td><td>missing</td><td>missing</td><td>0</td><td>0</td><td>0</td><td>0</td><td>0</td><td>missing</td><td>0</td><td>0</td><td>0</td><td>0</td><td>1</td><td>1</td><td>0</td><td>0</td><td>0</td><td>0</td><td>6.71732</td><td>0</td><td>NLD</td></tr><tr><th>18</th><td>1995</td><td>ABW</td><td>ANT</td><td>0</td><td>1</td><td>239.906</td><td>missing</td><td>1320.67</td><td>missing</td><td>AW</td><td>0.186726</td><td>missing</td><td>missing</td><td>AN</td><td>0</td><td>missing</td><td>missing</td><td>0</td><td>0</td><td>0</td><td>0</td><td>0</td><td>missing</td><td>0</td><td>0</td><td>0</td><td>0</td><td>1</td><td>1</td><td>0</td><td>0</td><td>0</td><td>0</td><td>3.62819</td><td>1</td><td>NLD</td></tr><tr><th>19</th><td>1996</td><td>ABW</td><td>ANT</td><td>0</td><td>1</td><td>239.906</td><td>missing</td><td>1379.89</td><td>missing</td><td>AW</td><td>0.184387</td><td>missing</td><td>missing</td><td>AN</td><td>0</td><td>missing</td><td>missing</td><td>0</td><td>0</td><td>0</td><td>0</td><td>0</td><td>missing</td><td>0</td><td>0</td><td>0</td><td>0</td><td>1</td><td>1</td><td>0</td><td>0</td><td>0</td><td>0</td><td>2.66449</td><td>1</td><td>NLD</td></tr><tr><th>20</th><td>1997</td><td>ABW</td><td>ANT</td><td>0</td><td>1</td><td>239.906</td><td>missing</td><td>1531.84</td><td>missing</td><td>AW</td><td>0.181626</td><td>missing</td><td>missing</td><td>AN</td><td>0</td><td>missing</td><td>missing</td><td>0</td><td>0</td><td>0</td><td>0</td><td>0</td><td>missing</td><td>0</td><td>0</td><td>0</td><td>0</td><td>1</td><td>1</td><td>0</td><td>0</td><td>0</td><td>0</td><td>3.4967</td><td>1</td><td>NLD</td></tr><tr><th>21</th><td>1998</td><td>ABW</td><td>ANT</td><td>0</td><td>1</td><td>239.906</td><td>missing</td><td>1665.36</td><td>missing</td><td>AW</td><td>0.178889</td><td>missing</td><td>missing</td><td>AN</td><td>0</td><td>missing</td><td>missing</td><td>0</td><td>0</td><td>0</td><td>0</td><td>0</td><td>missing</td><td>0</td><td>0</td><td>0</td><td>0</td><td>1</td><td>1</td><td>0</td><td>0</td><td>0</td><td>0</td><td>3.45712</td><td>1</td><td>NLD</td></tr><tr><th>22</th><td>1999</td><td>ABW</td><td>ANT</td><td>0</td><td>1</td><td>239.906</td><td>missing</td><td>1722.91</td><td>missing</td><td>AW</td><td>0.176765</td><td>missing</td><td>missing</td><td>AN</td><td>0</td><td>missing</td><td>missing</td><td>0</td><td>0</td><td>0</td><td>0</td><td>0</td><td>missing</td><td>0</td><td>0</td><td>0</td><td>0</td><td>1</td><td>1</td><td>0</td><td>0</td><td>0</td><td>0</td><td>2.69537</td><td>1</td><td>NLD</td></tr><tr><th>23</th><td>2000</td><td>ABW</td><td>ANT</td><td>0</td><td>1</td><td>239.906</td><td>missing</td><td>1858.66</td><td>missing</td><td>AW</td><td>0.17566</td><td>missing</td><td>missing</td><td>AN</td><td>0</td><td>missing</td><td>missing</td><td>0</td><td>0</td><td>0</td><td>0</td><td>0</td><td>missing</td><td>0</td><td>0</td><td>0</td><td>0</td><td>1</td><td>1</td><td>0</td><td>0</td><td>0</td><td>0</td><td>8.56064</td><td>1</td><td>NLD</td></tr><tr><th>24</th><td>2001</td><td>ABW</td><td>ANT</td><td>0</td><td>1</td><td>239.906</td><td>missing</td><td>1898.88</td><td>missing</td><td>AW</td><td>0.175771</td><td>missing</td><td>missing</td><td>AN</td><td>0</td><td>missing</td><td>missing</td><td>0</td><td>0</td><td>0</td><td>0</td><td>0</td><td>missing</td><td>0</td><td>0</td><td>0</td><td>0</td><td>1</td><td>1</td><td>0</td><td>0</td><td>0</td><td>0</td><td>13.3341</td><td>1</td><td>NLD</td></tr><tr><th>25</th><td>2002</td><td>ABW</td><td>ANT</td><td>0</td><td>1</td><td>239.906</td><td>missing</td><td>1911.17</td><td>missing</td><td>AW</td><td>0.176951</td><td>missing</td><td>missing</td><td>AN</td><td>0</td><td>missing</td><td>missing</td><td>0</td><td>0</td><td>0</td><td>0</td><td>0</td><td>missing</td><td>0</td><td>0</td><td>0</td><td>0</td><td>1</td><td>1</td><td>0</td><td>0</td><td>0</td><td>0</td><td>11.6798</td><td>1</td><td>NLD</td></tr><tr><th>26</th><td>2003</td><td>ABW</td><td>ANT</td><td>0</td><td>1</td><td>239.906</td><td>0.099</td><td>missing</td><td>missing</td><td>AW</td><td>0.178832</td><td>missing</td><td>missing</td><td>AN</td><td>0</td><td>missing</td><td>missing</td><td>0</td><td>0</td><td>0</td><td>0</td><td>0</td><td>missing</td><td>0</td><td>0</td><td>0</td><td>0</td><td>1</td><td>1</td><td>0</td><td>0</td><td>0</td><td>0</td><td>10.7573</td><td>1</td><td>NLD</td></tr><tr><th>27</th><td>2004</td><td>ABW</td><td>ANT</td><td>0</td><td>1</td><td>239.906</td><td>0.099</td><td>missing</td><td>missing</td><td>AW</td><td>0.18087</td><td>missing</td><td>missing</td><td>AN</td><td>0</td><td>missing</td><td>missing</td><td>0</td><td>0</td><td>0</td><td>0</td><td>0</td><td>missing</td><td>0</td><td>0</td><td>0</td><td>0</td><td>1</td><td>1</td><td>0</td><td>0</td><td>0</td><td>0</td><td>9.79398</td><td>1</td><td>NLD</td></tr><tr><th>28</th><td>2005</td><td>ABW</td><td>ANT</td><td>0</td><td>1</td><td>239.906</td><td>0.1003</td><td>missing</td><td>missing</td><td>AW</td><td>0.182656</td><td>missing</td><td>missing</td><td>AN</td><td>0</td><td>missing</td><td>missing</td><td>0</td><td>0</td><td>0</td><td>0</td><td>0</td><td>missing</td><td>0</td><td>0</td><td>0</td><td>0</td><td>1</td><td>1</td><td>0</td><td>0</td><td>0</td><td>0</td><td>10.4609</td><td>1</td><td>NLD</td></tr><tr><th>29</th><td>2006</td><td>ABW</td><td>ANT</td><td>0</td><td>1</td><td>239.906</td><td>0.1012</td><td>missing</td><td>missing</td><td>AW</td><td>0.183713</td><td>missing</td><td>missing</td><td>AN</td><td>0</td><td>missing</td><td>missing</td><td>0</td><td>0</td><td>0</td><td>0</td><td>0</td><td>missing</td><td>0</td><td>0</td><td>0</td><td>0</td><td>1</td><td>1</td><td>0</td><td>0</td><td>0</td><td>0</td><td>9.63062</td><td>1</td><td>NLD</td></tr><tr><th>30</th><td>1999</td><td>ABW</td><td>ARE</td><td>0</td><td>0</td><td>12773.1</td><td>missing</td><td>1722.91</td><td>missing</td><td>AW</td><td>3.033</td><td>55193.5</td><td>18197.6</td><td>AE</td><td>0</td><td>missing</td><td>missing</td><td>0</td><td>0</td><td>0</td><td>0</td><td>0</td><td>missing</td><td>missing</td><td>0</td><td>1</td><td>0</td><td>0</td><td>0</td><td>0</td><td>0</td><td>0</td><td>0</td><td>0.0</td><td>0</td><td></td></tr><tr><th>&vellip;</th><td>&vellip;</td><td>&vellip;</td><td>&vellip;</td><td>&vellip;</td><td>&vellip;</td><td>&vellip;</td><td>&vellip;</td><td>&vellip;</td><td>&vellip;</td><td>&vellip;</td><td>&vellip;</td><td>&vellip;</td><td>&vellip;</td><td>&vellip;</td><td>&vellip;</td><td>&vellip;</td><td>&vellip;</td><td>&vellip;</td><td>&vellip;</td><td>&vellip;</td><td>&vellip;</td><td>&vellip;</td><td>&vellip;</td><td>&vellip;</td><td>&vellip;</td><td>&vellip;</td><td>&vellip;</td><td>&vellip;</td><td>&vellip;</td><td>&vellip;</td><td>&vellip;</td><td>&vellip;</td><td>&vellip;</td><td>&vellip;</td><td>&vellip;</td><td>&vellip;</td></tr></tbody></table>"
      ],
      "text/plain": [
       "1204671×36 DataFrame. Omitted printing of 30 columns\n",
       "│ Row     │ year   │ iso_o   │ iso_d   │ contig │ comlang_off │ distw    │\n",
       "│         │ \u001b[90mInt16⍰\u001b[39m │ \u001b[90mString⍰\u001b[39m │ \u001b[90mString⍰\u001b[39m │ \u001b[90mInt8⍰\u001b[39m  │ \u001b[90mInt8⍰\u001b[39m       │ \u001b[90mFloat64⍰\u001b[39m │\n",
       "├─────────┼────────┼─────────┼─────────┼────────┼─────────────┼──────────┤\n",
       "│ 1       │ 1999   │ ABW     │ AGO     │ 0      │ 0           │ 9587.32  │\n",
       "│ 2       │ 2000   │ ABW     │ AGO     │ 0      │ 0           │ 9587.32  │\n",
       "│ 3       │ 2001   │ ABW     │ AGO     │ 0      │ 0           │ 9587.32  │\n",
       "│ 4       │ 2002   │ ABW     │ AGO     │ 0      │ 0           │ 9587.32  │\n",
       "│ 5       │ 2003   │ ABW     │ AGO     │ 0      │ 0           │ 9587.32  │\n",
       "│ 6       │ 2004   │ ABW     │ AGO     │ 0      │ 0           │ 9587.32  │\n",
       "│ 7       │ 2005   │ ABW     │ AGO     │ 0      │ 0           │ 9587.32  │\n",
       "│ 8       │ 2006   │ ABW     │ AGO     │ 0      │ 0           │ 9587.32  │\n",
       "│ 9       │ 1986   │ ABW     │ ANT     │ 0      │ 1           │ 239.906  │\n",
       "│ 10      │ 1987   │ ABW     │ ANT     │ 0      │ 1           │ 239.906  │\n",
       "⋮\n",
       "│ 1204661 │ 1996   │ ZWE     │ ZMB     │ 1      │ 1           │ 583.795  │\n",
       "│ 1204662 │ 1997   │ ZWE     │ ZMB     │ 1      │ 1           │ 583.795  │\n",
       "│ 1204663 │ 1998   │ ZWE     │ ZMB     │ 1      │ 1           │ 583.795  │\n",
       "│ 1204664 │ 1999   │ ZWE     │ ZMB     │ 1      │ 1           │ 583.795  │\n",
       "│ 1204665 │ 2000   │ ZWE     │ ZMB     │ 1      │ 1           │ 583.795  │\n",
       "│ 1204666 │ 2001   │ ZWE     │ ZMB     │ 1      │ 1           │ 583.795  │\n",
       "│ 1204667 │ 2002   │ ZWE     │ ZMB     │ 1      │ 1           │ 583.795  │\n",
       "│ 1204668 │ 2003   │ ZWE     │ ZMB     │ 1      │ 1           │ 583.795  │\n",
       "│ 1204669 │ 2004   │ ZWE     │ ZMB     │ 1      │ 1           │ 583.795  │\n",
       "│ 1204670 │ 2005   │ ZWE     │ ZMB     │ 1      │ 1           │ 583.795  │\n",
       "│ 1204671 │ 2006   │ ZWE     │ ZMB     │ 1      │ 1           │ 583.795  │"
      ]
     },
     "execution_count": 9,
     "metadata": {},
     "output_type": "execute_result"
    }
   ],
   "source": [
    "data=DataFrame(load(\"col_regfile09.dta\"))\n"
   ]
  },
  {
   "cell_type": "code",
   "execution_count": 10,
   "metadata": {},
   "outputs": [
    {
     "data": {
      "text/plain": [
       "1204671-element Array{Float64,1}:\n",
       " -Inf                 \n",
       " -Inf                 \n",
       " -Inf                 \n",
       " -Inf                 \n",
       " -Inf                 \n",
       " -Inf                 \n",
       " -Inf                 \n",
       " -Inf                 \n",
       " -Inf                 \n",
       " -Inf                 \n",
       "    2.2680971625353723\n",
       "    2.941856700584673 \n",
       "    2.424891217378014 \n",
       "    ⋮                 \n",
       "    4.65353549801587  \n",
       "    4.608073367674949 \n",
       "    4.850958596138776 \n",
       "    4.892496445145829 \n",
       "    4.329513781136819 \n",
       "    4.460846595096596 \n",
       "    4.5770124517921715\n",
       "    4.9152852468305674\n",
       "    5.2902751141548015\n",
       "    4.823550410653231 \n",
       "    4.704255050878246 \n",
       "    5.165362950297771 "
      ]
     },
     "execution_count": 10,
     "metadata": {},
     "output_type": "execute_result"
    }
   ],
   "source": [
    "data[:exporter]=categorical(data[:iso_o])\n",
    "data[:importer]=categorical(data[:iso_d])\n",
    "data[:catyear]=categorical(data[:year])\n",
    "data[:logdist]=log.(data[:distw])\n",
    "data[:logflow]=log.(data[:flow])\n"
   ]
  },
  {
   "cell_type": "code",
   "execution_count": 42,
   "metadata": {},
   "outputs": [
    {
     "data": {
      "text/html": [
       "<table class=\"data-frame\"><thead><tr><th></th><th>year</th><th>iso_o</th><th>iso_d</th><th>contig</th><th>comlang_off</th><th>distw</th><th>pop_o</th><th>gdp_o</th><th>gdpcap_o</th><th>iso2_o</th><th>pop_d</th><th>gdp_d</th><th>gdpcap_d</th><th>iso2_d</th><th>heg_d</th><th>conflict</th><th>indepdate</th><th>heg_o</th><th>col_to</th><th>col_fr</th><th>col_hist</th><th>col_cur</th><th>sever</th><th>sib_conflict</th><th>gatt_o</th><th>gatt_d</th><th>rta</th><th>comleg</th><th>comcur</th><th>acp_to_eu</th><th>gsp</th><th>eu_to_acp</th><th>gsp_rec</th><th>flow</th><th>validmirror</th><th>family</th><th>exporter</th><th>importer</th><th>catyear</th><th>logdist</th><th>logflow</th></tr><tr><th></th><th>Int16⍰</th><th>String⍰</th><th>String⍰</th><th>Int8⍰</th><th>Int8⍰</th><th>Float64⍰</th><th>Float32⍰</th><th>Float32⍰</th><th>Float32⍰</th><th>String⍰</th><th>Float32⍰</th><th>Float32⍰</th><th>Float32⍰</th><th>String⍰</th><th>Int8⍰</th><th>Int8⍰</th><th>Int16⍰</th><th>Int8⍰</th><th>Int8⍰</th><th>Int8⍰</th><th>Int8⍰</th><th>Int8⍰</th><th>Int16⍰</th><th>Int8⍰</th><th>Int8⍰</th><th>Int8⍰</th><th>Int8⍰</th><th>Int8⍰</th><th>Int8⍰</th><th>Int8⍰</th><th>Int8⍰</th><th>Int8⍰</th><th>Int8⍰</th><th>Float64⍰</th><th>Int8⍰</th><th>String⍰</th><th>Categorical…⍰</th><th>Categorical…⍰</th><th>Categorical…⍰</th><th>Float64</th><th>Float64</th></tr></thead><tbody><tr><th>1</th><td>1995</td><td>AFG</td><td>BHR</td><td>0</td><td>0</td><td>1940.47</td><td>missing</td><td>8399.04</td><td>missing</td><td>AF</td><td>0.73962</td><td>missing</td><td>missing</td><td>BH</td><td>0</td><td>missing</td><td>missing</td><td>0</td><td>0</td><td>0</td><td>0</td><td>0</td><td>1919</td><td>1</td><td>0</td><td>1</td><td>0</td><td>0</td><td>0</td><td>0</td><td>0</td><td>0</td><td>0</td><td>0.152645</td><td>1</td><td>GBR</td><td>AFG</td><td>BHR</td><td>2006</td><td>7.57069</td><td>-1.87964</td></tr><tr><th>2</th><td>1995</td><td>AFG</td><td>BHR</td><td>0</td><td>0</td><td>1940.47</td><td>missing</td><td>8399.04</td><td>missing</td><td>AF</td><td>0.73962</td><td>missing</td><td>missing</td><td>BH</td><td>0</td><td>missing</td><td>missing</td><td>0</td><td>0</td><td>0</td><td>0</td><td>0</td><td>1919</td><td>1</td><td>0</td><td>1</td><td>0</td><td>0</td><td>0</td><td>0</td><td>0</td><td>0</td><td>0</td><td>0.152645</td><td>1</td><td>GBR</td><td>AFG</td><td>BHR</td><td>2006</td><td>7.57069</td><td>-1.87964</td></tr><tr><th>3</th><td>1995</td><td>AFG</td><td>BHR</td><td>0</td><td>0</td><td>1940.47</td><td>missing</td><td>8399.04</td><td>missing</td><td>AF</td><td>0.73962</td><td>missing</td><td>missing</td><td>BH</td><td>0</td><td>missing</td><td>missing</td><td>0</td><td>0</td><td>0</td><td>0</td><td>0</td><td>1919</td><td>1</td><td>0</td><td>1</td><td>0</td><td>0</td><td>0</td><td>0</td><td>0</td><td>0</td><td>0</td><td>0.152645</td><td>1</td><td>GBR</td><td>AFG</td><td>BHR</td><td>2006</td><td>7.57069</td><td>-1.87964</td></tr><tr><th>4</th><td>1995</td><td>AFG</td><td>BHR</td><td>0</td><td>0</td><td>1940.47</td><td>missing</td><td>8399.04</td><td>missing</td><td>AF</td><td>0.73962</td><td>missing</td><td>missing</td><td>BH</td><td>0</td><td>missing</td><td>missing</td><td>0</td><td>0</td><td>0</td><td>0</td><td>0</td><td>1919</td><td>1</td><td>0</td><td>1</td><td>0</td><td>0</td><td>0</td><td>0</td><td>0</td><td>0</td><td>0</td><td>0.152645</td><td>1</td><td>GBR</td><td>AFG</td><td>BHR</td><td>2006</td><td>7.57069</td><td>-1.87964</td></tr><tr><th>5</th><td>1995</td><td>AFG</td><td>BHR</td><td>0</td><td>0</td><td>1940.47</td><td>missing</td><td>8399.04</td><td>missing</td><td>AF</td><td>0.73962</td><td>missing</td><td>missing</td><td>BH</td><td>0</td><td>missing</td><td>missing</td><td>0</td><td>0</td><td>0</td><td>0</td><td>0</td><td>1919</td><td>1</td><td>0</td><td>1</td><td>0</td><td>0</td><td>0</td><td>0</td><td>0</td><td>0</td><td>0</td><td>0.152645</td><td>1</td><td>GBR</td><td>AFG</td><td>BHR</td><td>2006</td><td>7.57069</td><td>-1.87964</td></tr><tr><th>6</th><td>1995</td><td>AFG</td><td>BHR</td><td>0</td><td>0</td><td>1940.47</td><td>missing</td><td>8399.04</td><td>missing</td><td>AF</td><td>0.73962</td><td>missing</td><td>missing</td><td>BH</td><td>0</td><td>missing</td><td>missing</td><td>0</td><td>0</td><td>0</td><td>0</td><td>0</td><td>1919</td><td>1</td><td>0</td><td>1</td><td>0</td><td>0</td><td>0</td><td>0</td><td>0</td><td>0</td><td>0</td><td>0.152645</td><td>1</td><td>GBR</td><td>AFG</td><td>BHR</td><td>2006</td><td>7.57069</td><td>-1.87964</td></tr><tr><th>7</th><td>1995</td><td>AFG</td><td>BHR</td><td>0</td><td>0</td><td>1940.47</td><td>missing</td><td>8399.04</td><td>missing</td><td>AF</td><td>0.73962</td><td>missing</td><td>missing</td><td>BH</td><td>0</td><td>missing</td><td>missing</td><td>0</td><td>0</td><td>0</td><td>0</td><td>0</td><td>1919</td><td>1</td><td>0</td><td>1</td><td>0</td><td>0</td><td>0</td><td>0</td><td>0</td><td>0</td><td>0</td><td>0.152645</td><td>1</td><td>GBR</td><td>AFG</td><td>BHR</td><td>2006</td><td>7.57069</td><td>-1.87964</td></tr><tr><th>8</th><td>1995</td><td>AFG</td><td>BHR</td><td>0</td><td>0</td><td>1940.47</td><td>missing</td><td>8399.04</td><td>missing</td><td>AF</td><td>0.73962</td><td>missing</td><td>missing</td><td>BH</td><td>0</td><td>missing</td><td>missing</td><td>0</td><td>0</td><td>0</td><td>0</td><td>0</td><td>1919</td><td>1</td><td>0</td><td>1</td><td>0</td><td>0</td><td>0</td><td>0</td><td>0</td><td>0</td><td>0</td><td>0.152645</td><td>1</td><td>GBR</td><td>AFG</td><td>BHR</td><td>2006</td><td>7.57069</td><td>-1.87964</td></tr><tr><th>9</th><td>1995</td><td>AFG</td><td>BHR</td><td>0</td><td>0</td><td>1940.47</td><td>missing</td><td>8399.04</td><td>missing</td><td>AF</td><td>0.73962</td><td>missing</td><td>missing</td><td>BH</td><td>0</td><td>missing</td><td>missing</td><td>0</td><td>0</td><td>0</td><td>0</td><td>0</td><td>1919</td><td>1</td><td>0</td><td>1</td><td>0</td><td>0</td><td>0</td><td>0</td><td>0</td><td>0</td><td>0</td><td>0.152645</td><td>1</td><td>GBR</td><td>AFG</td><td>BHR</td><td>2006</td><td>7.57069</td><td>-1.87964</td></tr><tr><th>10</th><td>1995</td><td>AFG</td><td>BHR</td><td>0</td><td>0</td><td>1940.47</td><td>missing</td><td>8399.04</td><td>missing</td><td>AF</td><td>0.73962</td><td>missing</td><td>missing</td><td>BH</td><td>0</td><td>missing</td><td>missing</td><td>0</td><td>0</td><td>0</td><td>0</td><td>0</td><td>1919</td><td>1</td><td>0</td><td>1</td><td>0</td><td>0</td><td>0</td><td>0</td><td>0</td><td>0</td><td>0</td><td>0.152645</td><td>1</td><td>GBR</td><td>AFG</td><td>BHR</td><td>2006</td><td>7.57069</td><td>-1.87964</td></tr><tr><th>11</th><td>1995</td><td>AFG</td><td>BHR</td><td>0</td><td>0</td><td>1940.47</td><td>missing</td><td>8399.04</td><td>missing</td><td>AF</td><td>0.73962</td><td>missing</td><td>missing</td><td>BH</td><td>0</td><td>missing</td><td>missing</td><td>0</td><td>0</td><td>0</td><td>0</td><td>0</td><td>1919</td><td>1</td><td>0</td><td>1</td><td>0</td><td>0</td><td>0</td><td>0</td><td>0</td><td>0</td><td>0</td><td>0.152645</td><td>1</td><td>GBR</td><td>AFG</td><td>BHR</td><td>2006</td><td>7.57069</td><td>-1.87964</td></tr><tr><th>12</th><td>1995</td><td>AFG</td><td>BHR</td><td>0</td><td>0</td><td>1940.47</td><td>missing</td><td>8399.04</td><td>missing</td><td>AF</td><td>0.73962</td><td>missing</td><td>missing</td><td>BH</td><td>0</td><td>missing</td><td>missing</td><td>0</td><td>0</td><td>0</td><td>0</td><td>0</td><td>1919</td><td>1</td><td>0</td><td>1</td><td>0</td><td>0</td><td>0</td><td>0</td><td>0</td><td>0</td><td>0</td><td>0.152645</td><td>1</td><td>GBR</td><td>AFG</td><td>BHR</td><td>2006</td><td>7.57069</td><td>-1.87964</td></tr><tr><th>13</th><td>1995</td><td>AFG</td><td>BHR</td><td>0</td><td>0</td><td>1940.47</td><td>missing</td><td>8399.04</td><td>missing</td><td>AF</td><td>0.73962</td><td>missing</td><td>missing</td><td>BH</td><td>0</td><td>missing</td><td>missing</td><td>0</td><td>0</td><td>0</td><td>0</td><td>0</td><td>1919</td><td>1</td><td>0</td><td>1</td><td>0</td><td>0</td><td>0</td><td>0</td><td>0</td><td>0</td><td>0</td><td>0.152645</td><td>1</td><td>GBR</td><td>AFG</td><td>BHR</td><td>2006</td><td>7.57069</td><td>-1.87964</td></tr><tr><th>14</th><td>1995</td><td>AFG</td><td>BHR</td><td>0</td><td>0</td><td>1940.47</td><td>missing</td><td>8399.04</td><td>missing</td><td>AF</td><td>0.73962</td><td>missing</td><td>missing</td><td>BH</td><td>0</td><td>missing</td><td>missing</td><td>0</td><td>0</td><td>0</td><td>0</td><td>0</td><td>1919</td><td>1</td><td>0</td><td>1</td><td>0</td><td>0</td><td>0</td><td>0</td><td>0</td><td>0</td><td>0</td><td>0.152645</td><td>1</td><td>GBR</td><td>AFG</td><td>BHR</td><td>2006</td><td>7.57069</td><td>-1.87964</td></tr><tr><th>15</th><td>1995</td><td>AFG</td><td>BHR</td><td>0</td><td>0</td><td>1940.47</td><td>missing</td><td>8399.04</td><td>missing</td><td>AF</td><td>0.73962</td><td>missing</td><td>missing</td><td>BH</td><td>0</td><td>missing</td><td>missing</td><td>0</td><td>0</td><td>0</td><td>0</td><td>0</td><td>1919</td><td>1</td><td>0</td><td>1</td><td>0</td><td>0</td><td>0</td><td>0</td><td>0</td><td>0</td><td>0</td><td>0.152645</td><td>1</td><td>GBR</td><td>AFG</td><td>BHR</td><td>2006</td><td>7.57069</td><td>-1.87964</td></tr><tr><th>16</th><td>1995</td><td>AFG</td><td>BHR</td><td>0</td><td>0</td><td>1940.47</td><td>missing</td><td>8399.04</td><td>missing</td><td>AF</td><td>0.73962</td><td>missing</td><td>missing</td><td>BH</td><td>0</td><td>missing</td><td>missing</td><td>0</td><td>0</td><td>0</td><td>0</td><td>0</td><td>1919</td><td>1</td><td>0</td><td>1</td><td>0</td><td>0</td><td>0</td><td>0</td><td>0</td><td>0</td><td>0</td><td>0.152645</td><td>1</td><td>GBR</td><td>AFG</td><td>BHR</td><td>2006</td><td>7.57069</td><td>-1.87964</td></tr><tr><th>17</th><td>1995</td><td>AFG</td><td>BHR</td><td>0</td><td>0</td><td>1940.47</td><td>missing</td><td>8399.04</td><td>missing</td><td>AF</td><td>0.73962</td><td>missing</td><td>missing</td><td>BH</td><td>0</td><td>missing</td><td>missing</td><td>0</td><td>0</td><td>0</td><td>0</td><td>0</td><td>1919</td><td>1</td><td>0</td><td>1</td><td>0</td><td>0</td><td>0</td><td>0</td><td>0</td><td>0</td><td>0</td><td>0.152645</td><td>1</td><td>GBR</td><td>AFG</td><td>BHR</td><td>2006</td><td>7.57069</td><td>-1.87964</td></tr><tr><th>18</th><td>1995</td><td>AFG</td><td>BHR</td><td>0</td><td>0</td><td>1940.47</td><td>missing</td><td>8399.04</td><td>missing</td><td>AF</td><td>0.73962</td><td>missing</td><td>missing</td><td>BH</td><td>0</td><td>missing</td><td>missing</td><td>0</td><td>0</td><td>0</td><td>0</td><td>0</td><td>1919</td><td>1</td><td>0</td><td>1</td><td>0</td><td>0</td><td>0</td><td>0</td><td>0</td><td>0</td><td>0</td><td>0.152645</td><td>1</td><td>GBR</td><td>AFG</td><td>BHR</td><td>2006</td><td>7.57069</td><td>-1.87964</td></tr><tr><th>19</th><td>1995</td><td>AFG</td><td>BHR</td><td>0</td><td>0</td><td>1940.47</td><td>missing</td><td>8399.04</td><td>missing</td><td>AF</td><td>0.73962</td><td>missing</td><td>missing</td><td>BH</td><td>0</td><td>missing</td><td>missing</td><td>0</td><td>0</td><td>0</td><td>0</td><td>0</td><td>1919</td><td>1</td><td>0</td><td>1</td><td>0</td><td>0</td><td>0</td><td>0</td><td>0</td><td>0</td><td>0</td><td>0.152645</td><td>1</td><td>GBR</td><td>AFG</td><td>BHR</td><td>2006</td><td>7.57069</td><td>-1.87964</td></tr><tr><th>20</th><td>1995</td><td>AFG</td><td>BHR</td><td>0</td><td>0</td><td>1940.47</td><td>missing</td><td>8399.04</td><td>missing</td><td>AF</td><td>0.73962</td><td>missing</td><td>missing</td><td>BH</td><td>0</td><td>missing</td><td>missing</td><td>0</td><td>0</td><td>0</td><td>0</td><td>0</td><td>1919</td><td>1</td><td>0</td><td>1</td><td>0</td><td>0</td><td>0</td><td>0</td><td>0</td><td>0</td><td>0</td><td>0.152645</td><td>1</td><td>GBR</td><td>AFG</td><td>BHR</td><td>2006</td><td>7.57069</td><td>-1.87964</td></tr><tr><th>21</th><td>1995</td><td>AFG</td><td>BHR</td><td>0</td><td>0</td><td>1940.47</td><td>missing</td><td>8399.04</td><td>missing</td><td>AF</td><td>0.73962</td><td>missing</td><td>missing</td><td>BH</td><td>0</td><td>missing</td><td>missing</td><td>0</td><td>0</td><td>0</td><td>0</td><td>0</td><td>1919</td><td>1</td><td>0</td><td>1</td><td>0</td><td>0</td><td>0</td><td>0</td><td>0</td><td>0</td><td>0</td><td>0.152645</td><td>1</td><td>GBR</td><td>AFG</td><td>BHR</td><td>2006</td><td>7.57069</td><td>-1.87964</td></tr><tr><th>22</th><td>1995</td><td>AFG</td><td>BHR</td><td>0</td><td>0</td><td>1940.47</td><td>missing</td><td>8399.04</td><td>missing</td><td>AF</td><td>0.73962</td><td>missing</td><td>missing</td><td>BH</td><td>0</td><td>missing</td><td>missing</td><td>0</td><td>0</td><td>0</td><td>0</td><td>0</td><td>1919</td><td>1</td><td>0</td><td>1</td><td>0</td><td>0</td><td>0</td><td>0</td><td>0</td><td>0</td><td>0</td><td>0.152645</td><td>1</td><td>GBR</td><td>AFG</td><td>BHR</td><td>2006</td><td>7.57069</td><td>-1.87964</td></tr><tr><th>23</th><td>1995</td><td>AFG</td><td>BHR</td><td>0</td><td>0</td><td>1940.47</td><td>missing</td><td>8399.04</td><td>missing</td><td>AF</td><td>0.73962</td><td>missing</td><td>missing</td><td>BH</td><td>0</td><td>missing</td><td>missing</td><td>0</td><td>0</td><td>0</td><td>0</td><td>0</td><td>1919</td><td>1</td><td>0</td><td>1</td><td>0</td><td>0</td><td>0</td><td>0</td><td>0</td><td>0</td><td>0</td><td>0.152645</td><td>1</td><td>GBR</td><td>AFG</td><td>BHR</td><td>2006</td><td>7.57069</td><td>-1.87964</td></tr><tr><th>24</th><td>1995</td><td>AFG</td><td>BHR</td><td>0</td><td>0</td><td>1940.47</td><td>missing</td><td>8399.04</td><td>missing</td><td>AF</td><td>0.73962</td><td>missing</td><td>missing</td><td>BH</td><td>0</td><td>missing</td><td>missing</td><td>0</td><td>0</td><td>0</td><td>0</td><td>0</td><td>1919</td><td>1</td><td>0</td><td>1</td><td>0</td><td>0</td><td>0</td><td>0</td><td>0</td><td>0</td><td>0</td><td>0.152645</td><td>1</td><td>GBR</td><td>AFG</td><td>BHR</td><td>2006</td><td>7.57069</td><td>-1.87964</td></tr><tr><th>25</th><td>1995</td><td>AFG</td><td>BHR</td><td>0</td><td>0</td><td>1940.47</td><td>missing</td><td>8399.04</td><td>missing</td><td>AF</td><td>0.73962</td><td>missing</td><td>missing</td><td>BH</td><td>0</td><td>missing</td><td>missing</td><td>0</td><td>0</td><td>0</td><td>0</td><td>0</td><td>1919</td><td>1</td><td>0</td><td>1</td><td>0</td><td>0</td><td>0</td><td>0</td><td>0</td><td>0</td><td>0</td><td>0.152645</td><td>1</td><td>GBR</td><td>AFG</td><td>BHR</td><td>2006</td><td>7.57069</td><td>-1.87964</td></tr><tr><th>26</th><td>1995</td><td>AFG</td><td>BHR</td><td>0</td><td>0</td><td>1940.47</td><td>missing</td><td>8399.04</td><td>missing</td><td>AF</td><td>0.73962</td><td>missing</td><td>missing</td><td>BH</td><td>0</td><td>missing</td><td>missing</td><td>0</td><td>0</td><td>0</td><td>0</td><td>0</td><td>1919</td><td>1</td><td>0</td><td>1</td><td>0</td><td>0</td><td>0</td><td>0</td><td>0</td><td>0</td><td>0</td><td>0.152645</td><td>1</td><td>GBR</td><td>AFG</td><td>BHR</td><td>2006</td><td>7.57069</td><td>-1.87964</td></tr><tr><th>27</th><td>1995</td><td>AFG</td><td>BHR</td><td>0</td><td>0</td><td>1940.47</td><td>missing</td><td>8399.04</td><td>missing</td><td>AF</td><td>0.73962</td><td>missing</td><td>missing</td><td>BH</td><td>0</td><td>missing</td><td>missing</td><td>0</td><td>0</td><td>0</td><td>0</td><td>0</td><td>1919</td><td>1</td><td>0</td><td>1</td><td>0</td><td>0</td><td>0</td><td>0</td><td>0</td><td>0</td><td>0</td><td>0.152645</td><td>1</td><td>GBR</td><td>AFG</td><td>BHR</td><td>2006</td><td>7.57069</td><td>-1.87964</td></tr><tr><th>28</th><td>1995</td><td>AFG</td><td>BHR</td><td>0</td><td>0</td><td>1940.47</td><td>missing</td><td>8399.04</td><td>missing</td><td>AF</td><td>0.73962</td><td>missing</td><td>missing</td><td>BH</td><td>0</td><td>missing</td><td>missing</td><td>0</td><td>0</td><td>0</td><td>0</td><td>0</td><td>1919</td><td>1</td><td>0</td><td>1</td><td>0</td><td>0</td><td>0</td><td>0</td><td>0</td><td>0</td><td>0</td><td>0.152645</td><td>1</td><td>GBR</td><td>AFG</td><td>BHR</td><td>2006</td><td>7.57069</td><td>-1.87964</td></tr><tr><th>29</th><td>1995</td><td>AFG</td><td>BHR</td><td>0</td><td>0</td><td>1940.47</td><td>missing</td><td>8399.04</td><td>missing</td><td>AF</td><td>0.73962</td><td>missing</td><td>missing</td><td>BH</td><td>0</td><td>missing</td><td>missing</td><td>0</td><td>0</td><td>0</td><td>0</td><td>0</td><td>1919</td><td>1</td><td>0</td><td>1</td><td>0</td><td>0</td><td>0</td><td>0</td><td>0</td><td>0</td><td>0</td><td>0.152645</td><td>1</td><td>GBR</td><td>AFG</td><td>BHR</td><td>2006</td><td>7.57069</td><td>-1.87964</td></tr><tr><th>30</th><td>1995</td><td>AFG</td><td>BHR</td><td>0</td><td>0</td><td>1940.47</td><td>missing</td><td>8399.04</td><td>missing</td><td>AF</td><td>0.73962</td><td>missing</td><td>missing</td><td>BH</td><td>0</td><td>missing</td><td>missing</td><td>0</td><td>0</td><td>0</td><td>0</td><td>0</td><td>1919</td><td>1</td><td>0</td><td>1</td><td>0</td><td>0</td><td>0</td><td>0</td><td>0</td><td>0</td><td>0</td><td>0.152645</td><td>1</td><td>GBR</td><td>AFG</td><td>BHR</td><td>2006</td><td>7.57069</td><td>-1.87964</td></tr><tr><th>&vellip;</th><td>&vellip;</td><td>&vellip;</td><td>&vellip;</td><td>&vellip;</td><td>&vellip;</td><td>&vellip;</td><td>&vellip;</td><td>&vellip;</td><td>&vellip;</td><td>&vellip;</td><td>&vellip;</td><td>&vellip;</td><td>&vellip;</td><td>&vellip;</td><td>&vellip;</td><td>&vellip;</td><td>&vellip;</td><td>&vellip;</td><td>&vellip;</td><td>&vellip;</td><td>&vellip;</td><td>&vellip;</td><td>&vellip;</td><td>&vellip;</td><td>&vellip;</td><td>&vellip;</td><td>&vellip;</td><td>&vellip;</td><td>&vellip;</td><td>&vellip;</td><td>&vellip;</td><td>&vellip;</td><td>&vellip;</td><td>&vellip;</td><td>&vellip;</td><td>&vellip;</td><td>&vellip;</td><td>&vellip;</td><td>&vellip;</td><td>&vellip;</td><td>&vellip;</td></tr></tbody></table>"
      ],
      "text/plain": [
       "1204671×41 DataFrame. Omitted printing of 35 columns\n",
       "│ Row     │ year   │ iso_o   │ iso_d   │ contig │ comlang_off │ distw    │\n",
       "│         │ \u001b[90mInt16⍰\u001b[39m │ \u001b[90mString⍰\u001b[39m │ \u001b[90mString⍰\u001b[39m │ \u001b[90mInt8⍰\u001b[39m  │ \u001b[90mInt8⍰\u001b[39m       │ \u001b[90mFloat64⍰\u001b[39m │\n",
       "├─────────┼────────┼─────────┼─────────┼────────┼─────────────┼──────────┤\n",
       "│ 1       │ 1995   │ AFG     │ BHR     │ 0      │ 0           │ 1940.47  │\n",
       "│ 2       │ 1995   │ AFG     │ BHR     │ 0      │ 0           │ 1940.47  │\n",
       "│ 3       │ 1995   │ AFG     │ BHR     │ 0      │ 0           │ 1940.47  │\n",
       "│ 4       │ 1995   │ AFG     │ BHR     │ 0      │ 0           │ 1940.47  │\n",
       "│ 5       │ 1995   │ AFG     │ BHR     │ 0      │ 0           │ 1940.47  │\n",
       "│ 6       │ 1995   │ AFG     │ BHR     │ 0      │ 0           │ 1940.47  │\n",
       "│ 7       │ 1995   │ AFG     │ BHR     │ 0      │ 0           │ 1940.47  │\n",
       "│ 8       │ 1995   │ AFG     │ BHR     │ 0      │ 0           │ 1940.47  │\n",
       "│ 9       │ 1995   │ AFG     │ BHR     │ 0      │ 0           │ 1940.47  │\n",
       "│ 10      │ 1995   │ AFG     │ BHR     │ 0      │ 0           │ 1940.47  │\n",
       "⋮\n",
       "│ 1204661 │ 1995   │ AFG     │ BHR     │ 0      │ 0           │ 1940.47  │\n",
       "│ 1204662 │ 1995   │ AFG     │ BHR     │ 0      │ 0           │ 1940.47  │\n",
       "│ 1204663 │ 1995   │ AFG     │ BHR     │ 0      │ 0           │ 1940.47  │\n",
       "│ 1204664 │ 1995   │ AFG     │ BHR     │ 0      │ 0           │ 1940.47  │\n",
       "│ 1204665 │ 1995   │ AFG     │ BHR     │ 0      │ 0           │ 1940.47  │\n",
       "│ 1204666 │ 1995   │ AFG     │ BHR     │ 0      │ 0           │ 1940.47  │\n",
       "│ 1204667 │ 1995   │ AFG     │ BHR     │ 0      │ 0           │ 1940.47  │\n",
       "│ 1204668 │ 1995   │ AFG     │ BHR     │ 0      │ 0           │ 1940.47  │\n",
       "│ 1204669 │ 1995   │ AFG     │ BHR     │ 0      │ 0           │ 1940.47  │\n",
       "│ 1204670 │ 1995   │ AFG     │ BHR     │ 0      │ 0           │ 1940.47  │\n",
       "│ 1204671 │ 1995   │ AFG     │ BHR     │ 0      │ 0           │ 1940.47  │"
      ]
     },
     "execution_count": 42,
     "metadata": {},
     "output_type": "execute_result"
    }
   ],
   "source": [
    "trialdata=data[(data[:year].=1995),:]\n",
    "trialdata[trialdata[:flow].!=0.0,:]"
   ]
  },
  {
   "cell_type": "code",
   "execution_count": 104,
   "metadata": {},
   "outputs": [
    {
     "name": "stdout",
     "output_type": "stream",
     "text": [
      "  5.010485 seconds (4.72 k allocations: 397.201 MiB, 77.82% gc time)\n"
     ]
    },
    {
     "data": {
      "text/plain": [
       "                            Fixed Effect Model                            \n",
       "===========================================================================\n",
       "Number of obs:               1204671   Degrees of freedom:                3\n",
       "R2:                            1.000   R2 within:                     1.000\n",
       "F-Statistic:              8.55027e37   p-value:                       0.000\n",
       "Iterations:                        1   Converged:                      true\n",
       "              Estimate   Std.Error     t value Pr(>|t|) Lower 95% Upper 95%\n",
       "logdist      -0.248275 2.68499e-20 -9.24677e18    0.000 -0.248275 -0.248275\n",
       "contig             0.0         NaN         NaN      NaN       NaN       NaN\n",
       "comlang_off        0.0         NaN         NaN      NaN       NaN       NaN\n"
      ]
     },
     "execution_count": 104,
     "metadata": {},
     "output_type": "execute_result"
    },
    {
     "name": "stdout",
     "output_type": "stream",
     "text": [
      "===========================================================================\n",
      "---------------------------------------------------------------------------\n",
      "===========================================================================\n"
     ]
    }
   ],
   "source": [
    "@time reg(trialdata[trialdata[:flow].!=0.0,:],@model(logflow~ logdist+contig+comlang_off, fe=exporter&catyear + importer&catyear, vcov=robust))\n",
    "\n",
    "\n",
    "\n",
    "\n"
   ]
  },
  {
   "cell_type": "code",
   "execution_count": 105,
   "metadata": {},
   "outputs": [
    {
     "name": "stdout",
     "output_type": "stream",
     "text": [
      "  2.401596 seconds (24.60 k allocations: 243.864 MiB, 46.92% gc time)\n"
     ]
    },
    {
     "data": {
      "text/plain": [
       "                          Fixed Effect Model                          \n",
       "======================================================================\n",
       "Number of obs:              709248  Degrees of freedom:          19174\n",
       "R2:                          0.702  R2 within:                   0.244\n",
       "F-Statistic:              1.5322e5  p-value:                     0.000\n",
       "Iterations:                     13  Converged:                    true\n",
       "             Estimate  Std.Error  t value Pr(>|t|) Lower 95% Upper 95%\n",
       "logdist      -1.32537 0.00378779 -349.905    0.000  -1.33279  -1.31794\n",
       "contig        0.54954  0.0159811  34.3869    0.000  0.518218  0.580863\n",
       "comlang_off  0.762005 0.00774385  98.4013    0.000  0.746828  0.777183\n"
      ]
     },
     "execution_count": 105,
     "metadata": {},
     "output_type": "execute_result"
    },
    {
     "name": "stdout",
     "output_type": "stream",
     "text": [
      "======================================================================\n",
      "----------------------------------------------------------------------\n",
      "======================================================================\n"
     ]
    }
   ],
   "source": [
    "@time femodeljulia=reg(data[data[:flow].!=0.0,:],@model(logflow~ logdist+contig+comlang_off, fe=exporter&catyear + importer&catyear, vcov=robust))\n",
    "\n"
   ]
  },
  {
   "cell_type": "code",
   "execution_count": 68,
   "metadata": {},
   "outputs": [
    {
     "name": "stdout",
     "output_type": "stream",
     "text": [
      "\\begin{tabular}{lr}\n",
      "\\toprule\n",
      "           & \\multicolumn{1}{c}{logflow} \\\\ \n",
      "\\cmidrule(lr){2-2} \n",
      "           &                         (1) \\\\ \n",
      "\\midrule\n",
      "logdist    &                   -1.325*** \\\\ \n",
      "           &                     (0.004) \\\\ \n",
      "contig     &                    0.550*** \\\\ \n",
      "           &                     (0.016) \\\\ \n",
      "commonlang &                    0.762*** \\\\ \n",
      "           &                     (0.008) \\\\ \n",
      "\\midrule\n",
      "\\midrule\n",
      "Estimator  &                         OLS \\\\ \n",
      "\\midrule\n",
      "$N$        &                     709,248 \\\\ \n",
      "$R^2$      &                       0.702 \\\\ \n",
      "\\bottomrule\n",
      "\\end{tabular}\n",
      "\n"
     ]
    }
   ],
   "source": [
    "\n",
    "regtable(femodeljulia, renderSettings=latexOutput(),labels=Dict(\"comlang_off\"=>\"commonlang\"))"
   ]
  },
  {
   "cell_type": "code",
   "execution_count": 108,
   "metadata": {},
   "outputs": [
    {
     "name": "stdout",
     "output_type": "stream",
     "text": [
      "  6.694759 seconds (6.77 k allocations: 443.350 MiB, 54.58% gc time)\n"
     ]
    },
    {
     "data": {
      "text/plain": [
       "                            Fixed Effect Model                            \n",
       "===========================================================================\n",
       "Number of obs:               1204671   Degrees of freedom:                3\n",
       "R2:                            1.000   R2 within:                     1.000\n",
       "F-Statistic:              8.55027e37   p-value:                       0.000\n",
       "Iterations:                        1   Converged:                      true\n",
       "              Estimate   Std.Error     t value Pr(>|t|) Lower 95% Upper 95%\n",
       "logdist      -0.248275 2.68499e-20 -9.24677e18    0.000 -0.248275 -0.248275\n",
       "contig             0.0         NaN         NaN      NaN       NaN       NaN\n",
       "comlang_off        0.0         NaN         NaN      NaN       NaN       NaN\n"
      ]
     },
     "execution_count": 108,
     "metadata": {},
     "output_type": "execute_result"
    },
    {
     "name": "stdout",
     "output_type": "stream",
     "text": [
      "===========================================================================\n",
      "---------------------------------------------------------------------------\n",
      "===========================================================================\n"
     ]
    }
   ],
   "source": [
    "###Parallel Computing\n",
    "\n",
    "using Distributed\n",
    "addprocs(2)\n",
    "\n",
    "@everywhere using DataFrames, FixedEffectModels\n",
    "@time reg(trialdata[trialdata[:flow].!=0.0,:],@model(logflow~ logdist+contig+comlang_off, fe=exporter&catyear + importer&catyear, vcov=robust), method = :lsmr_parallel)\n",
    "\n",
    "\n",
    "\n",
    "\n",
    "\n"
   ]
  },
  {
   "cell_type": "code",
   "execution_count": 109,
   "metadata": {},
   "outputs": [
    {
     "name": "stdout",
     "output_type": "stream",
     "text": [
      "  5.263719 seconds (27.37 k allocations: 274.259 MiB, 54.82% gc time)\n"
     ]
    },
    {
     "data": {
      "text/plain": [
       "                          Fixed Effect Model                          \n",
       "======================================================================\n",
       "Number of obs:              709248  Degrees of freedom:          19174\n",
       "R2:                          0.702  R2 within:                   0.244\n",
       "F-Statistic:              1.5322e5  p-value:                     0.000\n",
       "Iterations:                     13  Converged:                    true\n",
       "             Estimate  Std.Error  t value Pr(>|t|) Lower 95% Upper 95%\n",
       "logdist      -1.32537 0.00378779 -349.905    0.000  -1.33279  -1.31794\n",
       "contig        0.54954  0.0159811  34.3869    0.000  0.518218  0.580863\n",
       "comlang_off  0.762005 0.00774385  98.4013    0.000  0.746828  0.777183\n"
      ]
     },
     "execution_count": 109,
     "metadata": {},
     "output_type": "execute_result"
    },
    {
     "name": "stdout",
     "output_type": "stream",
     "text": [
      "======================================================================\n",
      "----------------------------------------------------------------------\n",
      "======================================================================\n"
     ]
    }
   ],
   "source": [
    "@time reg(data[data[:flow].!=0.0,:],@model(logflow~ logdist+contig+comlang_off, fe=exporter&catyear + importer&catyear, vcov=robust), method = :lsmr_parallel)\n",
    "\n"
   ]
  },
  {
   "cell_type": "code",
   "execution_count": 2,
   "metadata": {},
   "outputs": [
    {
     "ename": "UndefVarError",
     "evalue": "UndefVarError: load not defined",
     "output_type": "error",
     "traceback": [
      "UndefVarError: load not defined",
      "",
      "Stacktrace:",
      " [1] top-level scope at In[2]:1"
     ]
    }
   ],
   "source": [
    "deneme=DataFrame(load(\"col_regfile09.dta\"))"
   ]
  },
  {
   "cell_type": "code",
   "execution_count": null,
   "metadata": {},
   "outputs": [],
   "source": []
  }
 ],
 "metadata": {
  "kernelspec": {
   "display_name": "Julia 1.0.1",
   "language": "julia",
   "name": "julia-1.0"
  },
  "language_info": {
   "file_extension": ".jl",
   "mimetype": "application/julia",
   "name": "julia",
   "version": "1.0.1"
  }
 },
 "nbformat": 4,
 "nbformat_minor": 2
}
